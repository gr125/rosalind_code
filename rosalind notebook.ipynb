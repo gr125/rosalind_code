{
 "cells": [
  {
   "cell_type": "markdown",
   "id": "2b9f7507",
   "metadata": {},
   "source": [
    "# ROSALIND Solutions\n",
    "\n",
    "## About Rosalind\n",
    "\n",
    "**Rosalind is a platform for learning bioinformatics and programming through problem solving.** \n",
    "\n",
    "Rosalind offers an array of intellectually stimulating problems that grow in biological and computational complexity; each problem is checked automatically, so that the only resource required to learn bioinformatics is an internet connection.\n",
    "\n",
    "![ROSALIND logo ](http://soeadm.ucsd.edu/uploads/JSOETools/News/2012/Rosalind_logo_crop.jpg)"
   ]
  },
  {
   "cell_type": "markdown",
   "id": "3c2fec0f",
   "metadata": {},
   "source": [
    "## User Statistics\n",
    "\n",
    "**User:** gaurir \n",
    "\n",
    "**Level:** 2^4\n",
    "\n",
    "**Solved:** 27"
   ]
  },
  {
   "cell_type": "markdown",
   "id": "a49aef0d",
   "metadata": {},
   "source": [
    "# Code\n"
   ]
  },
  {
   "cell_type": "markdown",
   "id": "0f6d656e",
   "metadata": {},
   "source": [
    "## Counting DNA Nucleotides\n",
    "\n",
    "### Problem \n",
    "A string is simply an ordered collection of symbols selected from some alphabet and formed into a word; the length of a string is the number of symbols that it contains.\n",
    "\n",
    "An example of a length 21 DNA string (whose alphabet contains the symbols 'A', 'C', 'G', and 'T') is \"ATGCTTCAGAAAGGTCTTACG.\"\n",
    "\n",
    "**Given:** A DNA string $s$ of length at most 1000 nt.\n",
    "\n",
    "**Return:** Four integers (separated by spaces) counting the respective number of times that the symbols 'A', 'C', 'G', and 'T' occur in "
   ]
  },
  {
   "cell_type": "code",
   "execution_count": 18,
   "id": "c0b55c07",
   "metadata": {},
   "outputs": [
    {
     "name": "stdout",
     "output_type": "stream",
     "text": [
      "259 223 255 246\n"
     ]
    }
   ],
   "source": [
    "f = open('./rdata/rosalind_dna_2_dataset.txt')\n",
    "\n",
    "x = list(f.read())\n",
    "noA = str(len([i for i in x if i == 'A']))\n",
    "noC = str(len([i for i in x if i == 'C']))\n",
    "noG = str(len([i for i in x if i == 'G']))\n",
    "noT = str(len([i for i in x if i == 'T']))\n",
    "\n",
    "print(' '.join([noA, noC, noG, noT]))"
   ]
  },
  {
   "cell_type": "markdown",
   "id": "a9cf22f6",
   "metadata": {},
   "source": [
    "## Transcribing DNA into RNA\n",
    "\n",
    "### Problem \n",
    "\n",
    "An RNA string is a string formed from the alphabet containing 'A', 'C', 'G', and 'U'.\n",
    "\n",
    "Given a DNA string $t$ corresponding to a coding strand, its transcribed RNA string $u$ is formed by replacing all occurrences of 'T' in $t$ with 'U' in $u$.\n",
    "\n",
    "**Given:** A DNA string $t$ having length at most 1000 nt.\n",
    "\n",
    "**Return:** The transcribed RNA string of $t$.\n",
    "\n"
   ]
  },
  {
   "cell_type": "code",
   "execution_count": 7,
   "id": "57213edc",
   "metadata": {},
   "outputs": [
    {
     "name": "stdout",
     "output_type": "stream",
     "text": [
      "GUAGAACAGAGGCCCCGUAUGGCACCGAACGCUAAUAUUCGCUUGUUGAUAUGGCGCGUCUUUUUGGGUGAUUGAUCGAACAGGUUGGCUCAGAUCCCGAACGAUAACUCCGUCUGUAUGUUAGUAGAGUCGCGUGAAUAUACUUUUACUGCCUGCUGCGGGUCCGGCAUAAGUACAUGUAUCAGUUGAUCUAUAGGUCU...\n"
     ]
    }
   ],
   "source": [
    "f = open('./rdata/rosalind_rna_1_dataset.txt')\n",
    "\n",
    "DNA = list(f.read())\n",
    "f.close()\n",
    "RNA = ['U' if x == 'T' else x for x in DNA]\n",
    "\n",
    "print(''.join(RNA)[:200]+'...')"
   ]
  },
  {
   "cell_type": "markdown",
   "id": "71028c8e",
   "metadata": {},
   "source": [
    "## Complementing a Strand of DNA\n",
    "\n",
    "### Problem \n",
    "\n",
    "In DNA strings, symbols 'A' and 'T' are complements of each other, as are 'C' and 'G'.\n",
    "\n",
    "The reverse complement of a DNA string $s$ is the string $s_{c}$ formed by reversing the symbols of $s$, then taking the complement of each symbol (e.g., the reverse complement of \"GTCA\" is \"TGAC\").\n",
    "\n",
    "**Given:** A DNA string $s$ of length at most 1000 bp.\n",
    "\n",
    "**Return:** The reverse complement $s_{c}$ of $s$.\n",
    "\n"
   ]
  },
  {
   "cell_type": "code",
   "execution_count": 6,
   "id": "30d806bf",
   "metadata": {},
   "outputs": [
    {
     "name": "stdout",
     "output_type": "stream",
     "text": [
      "AACGATCAGTTAAGGAGTAGCTGGGTACTTCAGGGTTGAGGGAGTTCCGCTCATGCGTCGCCCGGAGCCGTTATATATTCAATACCGATGGTAAGGAGGCCTCAGCAGCCGCGCGAGGTATCTGCTCTGTAACATTCACGAGATCAGCAGCACCTGGACCTCACCAGTGCTAAGTTGAAGCACCATAGACAAGAAAGAGA...\n"
     ]
    }
   ],
   "source": [
    "f = open('./rdata/rosalind_revc_1_dataset.txt')\n",
    "read = f.read()\n",
    "#print(f\"Input: {read}\")\n",
    "\n",
    "DNA = list(read)\n",
    "f.close()\n",
    "complements = {'A':'T', 'T':'A', 'C':'G', 'G':'C'}\n",
    "DNA.reverse()\n",
    "RNA = [complements[x] for x in DNA if x in complements.keys()]\n",
    "\n",
    "print(''.join(RNA)[:200]+'...')"
   ]
  },
  {
   "cell_type": "markdown",
   "id": "55f42641",
   "metadata": {},
   "source": [
    "## Rabbits and Recurrence Relations \n",
    "\n",
    "### Problem \n",
    "\n",
    "A sequence is an ordered collection of objects (usually numbers), which are allowed to repeat. Sequences can be finite or infinite. Two examples are the finite sequence (π, −sqrt(2), 0, π) and the infinite sequence of odd numbers (1,3,5,7,9,…). We use the notation $a_{n}$ to represent the $n$-th term of a sequence.\n",
    "\n",
    "A recurrence relation is a way of defining the terms of a sequence with respect to the values of previous terms. In the case of Fibonacci's rabbits from the introduction, any given month will contain the rabbits that were alive the previous month, plus any new offspring. A key observation is that the number of offspring in any month is equal to the number of rabbits that were alive two months prior. As a result, if $F_{n}$ represents the number of rabbit pairs alive after the $n$-th month, then we obtain the Fibonacci sequence having terms $F_{n}$ that are defined by the recurrence relation $F_{n}$ =$F_{n-1}$+$F_{n-2}$ (with $F_{1}$=$F_{2}$=1 to initiate the sequence). Although the sequence bears Fibonacci's name, it was known to Indian mathematicians over two millennia ago.\n",
    "\n",
    "When finding the $n$-th term of a sequence defined by a recurrence relation, we can simply use the recurrence relation to generate terms for progressively larger values of $n$. This problem introduces us to the computational technique of dynamic programming, which successively builds up solutions by using the answers to smaller cases.\n",
    "\n",
    "**Given:** Positive integers $n$≤40 and $k$≤5.\n",
    "\n",
    "**Return:** The total number of rabbit pairs that will be present after $n$ months, if we begin with 1 pair and in each generation, every pair of reproduction-age rabbits produces a litter of $k$ rabbit pairs (instead of only 1 pair).\n",
    "\n"
   ]
  },
  {
   "cell_type": "code",
   "execution_count": 15,
   "id": "f4d0b8c7",
   "metadata": {},
   "outputs": [
    {
     "name": "stdout",
     "output_type": "stream",
     "text": [
      "249650241628\n"
     ]
    }
   ],
   "source": [
    "f = open('./rdata/rosalind_fib_1_dataset.txt')\n",
    "\n",
    "g = f.read().split()\n",
    "n = int(g[0])\n",
    "k = int(g[1])\n",
    "f.close()\n",
    "seq = [1, 1]\n",
    "for i in range(2, n):\n",
    "    seq.append(seq[-2]*k + seq[-1])\n",
    "\n",
    "print(str(seq[-1]))"
   ]
  },
  {
   "cell_type": "markdown",
   "id": "0604e672",
   "metadata": {},
   "source": [
    "## Computing GC Content\n",
    "\n",
    "### Problem\n",
    "\n",
    "The GC-content of a DNA string is given by the percentage of symbols in the string that are 'C' or 'G'. For example, the GC-content of \"AGCTATAG\" is 37.5%. Note that the reverse complement of any DNA string has the same GC-content.\n",
    "\n",
    "DNA strings must be labeled when they are consolidated into a database. A commonly used method of string labeling is called FASTA format. In this format, the string is introduced by a line that begins with '>', followed by some labeling information. Subsequent lines contain the string itself; the first line to begin with '>' indicates the label of the next string.\n",
    "\n",
    "In Rosalind's implementation, a string in FASTA format will be labeled by the ID \"Rosalind_xxxx\", where \"xxxx\" denotes a four-digit code between 0000 and 9999.\n",
    "\n",
    "**Given:** At most 10 DNA strings in FASTA format (of length at most 1 kbp each).\n",
    "\n",
    "**Return:** The ID of the string having the highest GC-content, followed by the GC-content of that string. Rosalind allows for a default error of 0.001 in all decimal answers unless otherwise stated; please see the note on absolute error below.\n",
    "\n"
   ]
  },
  {
   "cell_type": "code",
   "execution_count": 14,
   "id": "b2408dbe",
   "metadata": {},
   "outputs": [
    {
     "name": "stdout",
     "output_type": "stream",
     "text": [
      "Rosalind_0375\n",
      "54.140127%\n"
     ]
    }
   ],
   "source": [
    "f = open('./rdata/rosalind_gc_5_dataset.txt')\n",
    "\n",
    "f = f.read().split('>')\n",
    "dictionary = {}\n",
    "for i in range(1, len(f), 2):\n",
    "    x = list(f[i])\n",
    "    dictionary[''.join(x[:13])] = ''.join(x[13:]).replace(\"\\n\", \"\")\n",
    "highGC = 0\n",
    "for i in dictionary:\n",
    "    x = list(dictionary[i])\n",
    "    noC = len([c for c in x if c == 'C'])\n",
    "    noG = len([g for g in x if g == 'G'])\n",
    "    GC = round((noG+noC)/len(x)*100, 6)\n",
    "    if GC > highGC:\n",
    "        highGC = GC\n",
    "        key = i\n",
    "\n",
    "print(key)\n",
    "print(str(highGC)+'%')"
   ]
  },
  {
   "cell_type": "markdown",
   "id": "d61305f6",
   "metadata": {},
   "source": [
    "## Counting Point Mutations\n",
    "\n",
    "### Problem\n",
    "\n",
    "Given two strings $s$ and $t$ of equal length, the Hamming distance between $s$ and $t$, denoted $d_{H}(s,t)$, is the number of corresponding symbols that differ in $s$ and $t$. See Figure 1.\n",
    "\n",
    "![Hamming Distance](https://rosalind.info/media/problems/hamm/Hamming_distance.png)\n",
    "**Figure 1**\n",
    "\n",
    "**Given:** Two DNA strings $s$ and $t$ of equal length (not exceeding 1 kbp).\n",
    "\n",
    "**Return:** The Hamming distance $d_{H}(s,t)$."
   ]
  },
  {
   "cell_type": "code",
   "execution_count": 20,
   "id": "693c4c6c",
   "metadata": {},
   "outputs": [
    {
     "name": "stdout",
     "output_type": "stream",
     "text": [
      "483\n"
     ]
    }
   ],
   "source": [
    "f = open('./rdata/rosalind_hamm_1_dataset.txt')\n",
    "f = f.read().split()\n",
    "\n",
    "x = f[0]\n",
    "y = f[1]\n",
    "hd =0 \n",
    "for i in range(len(x)):\n",
    "    if x[i] != y[i]:\n",
    "        hd +=1\n",
    "\n",
    "print(hd)"
   ]
  },
  {
   "cell_type": "markdown",
   "id": "522f5d17",
   "metadata": {},
   "source": [
    "## Mendel's First Law \n",
    "\n",
    "### Problem\n",
    "\n",
    "Probability is the mathematical study of randomly occurring phenomena. We will model such a phenomenon with a random variable, which is simply a variable that can take a number of different distinct outcomes depending on the result of an underlying random process.\n",
    "\n",
    "For example, say that we have a bag containing 3 red balls and 2 blue balls. If we let $X$ represent the random variable corresponding to the color of a drawn ball, then the probability of each of the two outcomes is given by Pr($X$ = red) = $\\frac{3}{5}$ and Pr($X$ = blue) = $\\frac{2}{5}$.\n",
    "\n",
    "Random variables can be combined to yield new random variables. Returning to the ball example, let $Y$ model the color of a second ball drawn from the bag (without replacing the first ball). The probability of $Y$ being red depends on whether the first ball was red or blue. To represent all outcomes of $X$ and $Y$, we therefore use a probability tree diagram. This branching diagram represents all possible individual probabilities for $X$ and $Y$, with outcomes at the endpoints (\"leaves\") of the tree. The probability of any outcome is given by the product of probabilities along the path from the beginning of the tree; see Figure 2 for an illustrative example.\n",
    "\n",
    "![Probability Tree](https://rosalind.info/media/problems/iprb/balls_tree.png)\n",
    "**Figure 2**\n",
    "\n",
    "An event is simply a collection of outcomes. Because outcomes are distinct, the probability of an event can be written as the sum of the probabilities of its constituent outcomes. For our colored ball example, let $A$ be the event \"$Y$ is blue.\" Pr($A$) is equal to the sum of the probabilities of two different outcomes: Pr($X$ = blue and $Y$ = blue) + Pr($X$ = red and $Y$ = blue), or $\\frac{3}{10}$ + $\\frac{1}{10}$ = $\\frac{2}{5}$ (see Figure 2 above).\n",
    "\n",
    "**Given:** Three positive integers $k$, $m$, and $n$, representing a population containing $k$+$m$+$n$ organisms: $k$ individuals are homozygous dominant for a factor, $m$ are heterozygous, and $n$ are homozygous recessive.\n",
    "\n",
    "**Return:** The probability that two randomly selected mating organisms will produce an individual possessing a dominant allele (and thus displaying the dominant phenotype). Assume that any two organisms can mate."
   ]
  },
  {
   "cell_type": "code",
   "execution_count": 2,
   "id": "490898c3",
   "metadata": {},
   "outputs": [
    {
     "name": "stdout",
     "output_type": "stream",
     "text": [
      "0.7534690101757633\n"
     ]
    }
   ],
   "source": [
    "x = open('./rdata/rosalind_iprb_1_dataset.txt')\n",
    "l = x.read().split()\n",
    "x.close()\n",
    "\n",
    "k = int(l[0])\n",
    "m = int(l[1])\n",
    "n = int(l[2])\n",
    "total = k+m+n\n",
    "\n",
    "prob = k/total + (m/total)*((k/(total-1)) + 0.75*((m-1)/(total-1)) + 0.5*(n/(total-1))) + (n/total)*((k/(total-1)) +  0.5*(m/(total-1)))\n",
    "print(prob)"
   ]
  },
  {
   "cell_type": "markdown",
   "id": "9fc8ce42",
   "metadata": {},
   "source": [
    "## Translating RNA into Protein\n",
    "\n",
    "### Problem\n",
    "\n",
    "The 20 commonly occurring amino acids are abbreviated by using 20 letters from the English alphabet (all letters except for B, J, O, U, X, and Z). Protein strings are constructed from these 20 symbols. Henceforth, the term genetic string will incorporate protein strings along with DNA strings and RNA strings.\n",
    "\n",
    "The RNA codon table dictates the details regarding the encoding of specific codons into the amino acid alphabet.\n",
    "\n",
    "**Given:** An RNA string $s$ corresponding to a strand of mRNA (of length at most 10 kbp).\n",
    "\n",
    "**Return:** The protein string encoded by $s$.\n",
    "\n"
   ]
  },
  {
   "cell_type": "code",
   "execution_count": 5,
   "id": "5115ede0",
   "metadata": {},
   "outputs": [
    {
     "name": "stdout",
     "output_type": "stream",
     "text": [
      "MAFRPVYSTIAVHTFILCCQRGSSIYGYRLFNITVLEEGISPPITLSHEGRYLILPPVGLNSTDARRAPQIYTYQSFRHSERMVHLKSTSNVYRRIARCYTVWVSGLTVICKFPLNGREVGLPQPQRKTRPLSVASADCRFCLKCGSAEKSEGIGQLVKVMRVRRANRCKKGRWLDNAGRFTRYDIRNVLGAETRRYIKT...\n"
     ]
    }
   ],
   "source": [
    "codons = {'UUU':'F', 'UUC':'F', 'UUA':'L', 'UUG':'L', 'UCU':'S', 'UCC':'S',\n",
    "          'UCA':'S', 'UCG':'S', 'UAU':'Y', 'UAC':'Y', 'UAA':'Stop', 'UAG':'Stop',\n",
    "          'UGU':'C', 'UGC':'C', 'UGA':'Stop', 'UGG':'W', 'CUU':'L', 'CUC':'L',\n",
    "          'CUA':'L', 'CUG':'L', 'CCU':'P', 'CCC':'P', 'CCA':'P', 'CCG':'P',\n",
    "          'CAU':'H', 'CAC':'H', 'CAA':'Q', 'CAG':'Q', 'CGU':'R', 'CGC':'R',\n",
    "          'CGA':'R', 'CGG':'R', 'AUU':'I', 'AUC':'I', 'AUA':'I', 'AUG':'M',\n",
    "          'ACU':'T', 'ACC':'T', 'ACA':'T', 'ACG':'T', 'AAU':'N', 'AAC':'N',\n",
    "          'AAG':'K', 'AAA':'K', 'AGU':'S', 'AGC':'S', 'AGA':'R', 'AGG':'R',\n",
    "          'GUU':'V', 'GUC':'V', 'GUA':'V', 'GUG':'V', 'GCU':'A', 'GCC':'A',\n",
    "          'GCA':'A', 'GCG':'A', 'GAU':'D', 'GAC':'D', 'GAA':'E', 'GAG':'E',\n",
    "          'GGU':'G', 'GGC':'G', 'GGA':'G', 'GGG':'G'}\n",
    "\n",
    "x = open('./rdata/rosalind_prot_3_dataset.txt')\n",
    "aa = list(x.read())\n",
    "\n",
    "l = [''.join(aa[i:i+3]) for i in range(0, int(len(aa)), 3) ]\n",
    "x.close()\n",
    "p = [codons[i] for i in l if i in codons.keys() and codons[i]!='Stop']\n",
    "\n",
    "print(''.join(p)[:200]+'...')"
   ]
  },
  {
   "cell_type": "markdown",
   "id": "66ebdc7d",
   "metadata": {},
   "source": [
    "## Finding a Motif in DNA\n",
    "\n",
    "### Problem \n",
    "\n",
    "Given two strings $s$ and $t$, $t$ is a substring of $s$ if $t$ is contained as a contiguous collection of symbols in $s$ (as a result, $t$ must be no longer than $s$).\n",
    "\n",
    "The position of a symbol in a string is the total number of symbols found to its left, including itself (e.g., the positions of all occurrences of 'U' in \"AUGCUUCAGAAAGGUCUUACG\" are 2, 5, 6, 15, 17, and 18). The symbol at position $i$ of $s$ is denoted by $s[i]$.\n",
    "\n",
    "A substring of $s$ can be represented as $s[j:k]$, where $j$ and $k$ represent the starting and ending positions of the substring in $s$; for example, if $s$ = \"AUGCUUCAGAAAGGUCUUACG\", then $s[2:5]$ = \"UGCU\".\n",
    "\n",
    "The location of a substring $s[j:k]$ is its beginning position $j$; note that $t$ will have multiple locations in $s$ if it occurs more than once as a substring of $s$ (see the Sample below).\n",
    "\n",
    "**Given:** Two DNA strings $s$ and $t$ (each of length at most 1 kbp).\n",
    "\n",
    "**Return:** All locations of $t$ as a substring of $s$.\n",
    "\n"
   ]
  },
  {
   "cell_type": "code",
   "execution_count": 2,
   "id": "e8060fe0",
   "metadata": {},
   "outputs": [
    {
     "name": "stdout",
     "output_type": "stream",
     "text": [
      "5 27 111 141 210 240 280 287 294 301 308 353 467 607 672 679 694 702 710 745 761 768 798 \n"
     ]
    }
   ],
   "source": [
    "locations = ''\n",
    "\n",
    "f = open('./rdata/rosalind_subs_1_dataset.txt')\n",
    "g = list(f.read())\n",
    "\n",
    "res_list = [i for i, value in enumerate(g) if value == '\\n']\n",
    "s = g[:res_list[0]]\n",
    "t = g[res_list[0]+1:-1]\n",
    "for i in range(len(s)-len(t)):\n",
    "    if s[i:i+len(t)] == t:\n",
    "        locations = locations + str(i+1) + ' '\n",
    "\n",
    "print(locations)"
   ]
  },
  {
   "cell_type": "markdown",
   "id": "8aa26efe",
   "metadata": {},
   "source": [
    "## Consensus and Profile\n",
    "\n",
    "### Problem\n",
    "\n",
    "A matrix is a rectangular table of values divided into rows and columns. An $m$×$n$ matrix has $m$ rows and $n$ columns. Given a matrix $A$, we write $A_{i,j}$ to indicate the value found at the intersection of row $i$ and column $j$.\n",
    "\n",
    "Say that we have a collection of DNA strings, all having the same length $n$. Their profile matrix is a 4×$n$ matrix $P$ in which $P_{1,j}$ represents the number of times that 'A' occurs in the $j$th position of one of the strings,  $P_{2,j}$ represents the number of times that C occurs in the $j$th position, and so on.\n",
    "\n",
    "A consensus string $c$ is a string of length $n$ formed from our collection by taking the most common symbol at each position; the $j$th symbol of $c$ therefore corresponds to the symbol having the maximum value in the $j$-th column of the profile matrix. Of course, there may be more than one most common symbol, leading to multiple possible consensus strings.\n",
    "\n",
    "**Given:** A collection of at most 10 DNA strings of equal length (at most 1 kbp) in FASTA format.\n",
    "\n",
    "**Return:** A consensus string and profile matrix for the collection. (If several possible consensus strings exist, then you may return any one of them.)"
   ]
  },
  {
   "cell_type": "code",
   "execution_count": 12,
   "id": "ced7d8c7",
   "metadata": {},
   "outputs": [
    {
     "name": "stdout",
     "output_type": "stream",
     "text": [
      "   TCTTTGGTGGCTCGTCGTTG\n",
      "A: 0 4 0 3 2 1 1 3 2 0 \n",
      "C: 3 4 3 1 3 2 3 1 2 3 \n",
      "G: 3 0 2 2 2 6 4 3 4 4 \n",
      "T: 4 2 5 4 3 1 2 3 2 3 \n"
     ]
    }
   ],
   "source": [
    "x = open('./rdata/rosalind_cons_3_dataset.txt').read()\n",
    "b = x.split()\n",
    "\n",
    "inds = [i for i, value in enumerate(b) if value[0]=='>']\n",
    "l = []\n",
    "for i in range(len(inds)):\n",
    "    if i == len(inds)-1:\n",
    "        l.append(''.join(b[inds[i]+1:]))\n",
    "        continue\n",
    "    l.append(''.join(b[inds[i]+1:inds[i+1]]))\n",
    "consensus = []\n",
    "nA = []\n",
    "nC = []\n",
    "nG = []\n",
    "nT = []\n",
    "for i in range(len(l[0])):\n",
    "    n = [g[i] for g in l]\n",
    "    counts = {}\n",
    "    counts[n.count('A')] = 'A'\n",
    "    nA.append(str(n.count('A')))\n",
    "    counts[n.count('G')] = 'G'\n",
    "    nG.append(str(n.count('G')))\n",
    "    counts[n.count('C')] = 'C'\n",
    "    nC.append(str(n.count('C')))\n",
    "    counts[n.count('T')] = 'T'\n",
    "    nT.append(str(n.count('T')))\n",
    "    consensus.append(counts[max(n.count('A'), n.count('G'), n.count('C'), n.count('T'))])\n",
    "\n",
    "print('   '+''.join(consensus)[:20])\n",
    "print(f\"A: {' '.join(nA)[:20]}\")\n",
    "print(f\"C: {' '.join(nC)[:20]}\")\n",
    "print(f\"G: {' '.join(nG)[:20]}\")\n",
    "print(f\"T: {' '.join(nT)[:20]}\")\n"
   ]
  },
  {
   "cell_type": "markdown",
   "id": "3793c4a3",
   "metadata": {},
   "source": [
    "## Mortal Fibonacci Rabits\n",
    "\n",
    "### Problem\n",
    "\n",
    "Recall the definition of the Fibonacci numbers from “Rabbits and Recurrence Relations”, which followed the recurrence relation $F_{n}$ =$F_{n-1}$+$F_{n-2}$ and assumed that each pair of rabbits reaches maturity in one month and produces a single pair of offspring (one male, one female) each subsequent month.\n",
    "\n",
    "Our aim is to somehow modify this recurrence relation to achieve a dynamic programming solution in the case that all rabbits die out after a fixed number of months. See Figure 3 for a depiction of a rabbit tree in which rabbits live for three months (meaning that they reproduce only twice before dying).\n",
    "\n",
    "![Rabbit Tree](https://rosalind.info/media/problems/fibd/mortal_rabbit_tree.png)\n",
    "**Figure 3**\n",
    "\n",
    "\n",
    "**Given:** Positive integers $n$≤100 and $m$≤20.\n",
    "\n",
    "**Return:** The total number of pairs of rabbits that will remain after the $n$-th month if all rabbits live for $m$ months.\n",
    "\n"
   ]
  },
  {
   "cell_type": "code",
   "execution_count": 13,
   "id": "183b8222",
   "metadata": {},
   "outputs": [
    {
     "name": "stdout",
     "output_type": "stream",
     "text": [
      "61190227951392303\n"
     ]
    }
   ],
   "source": [
    "f = open('./rdata/rosalind_fibd_3_dataset.txt')\n",
    "n, m = [int(y) for y in f.read().split()]\n",
    "\n",
    "b = 1\n",
    "a = [0 for x in range(m-1)]\n",
    "for i in range(n-1):\n",
    "    btemp = 0\n",
    "    atemp = [0 for x in range(m-1)]\n",
    "    for j in range(m):\n",
    "        if j == 0:\n",
    "            atemp[j] = b\n",
    "        else:\n",
    "            try:\n",
    "                atemp[j] = a[j-1]\n",
    "            except IndexError:\n",
    "                True\n",
    "            btemp += a[j-1]\n",
    "    a, b = atemp, btemp\n",
    "    #print(f\"{b}, {a} sum={sum(a)+b}\")\n",
    "\n",
    "print(str(sum(a)+b))\n"
   ]
  },
  {
   "cell_type": "markdown",
   "id": "b08be94c",
   "metadata": {},
   "source": [
    "## Overlap Graphs\n",
    "\n",
    "### Problem\n",
    "\n",
    "A graph whose nodes have all been labeled can be represented by an adjacency list, in which each row of the list contains the two node labels corresponding to a unique edge.\n",
    "\n",
    "A directed graph (or digraph) is a graph containing directed edges, each of which has an orientation. That is, a directed edge is represented by an arrow instead of a line segment; the starting and ending nodes of an edge form its tail and head, respectively. The directed edge with tail $v$ and head $w$ is represented by $(v,w)$ (but not by $(w,v)$). A directed loop is a directed edge of the form $(v,v)$.\n",
    "\n",
    "For a collection of strings and a positive integer $k$, the overlap graph for the strings is a directed graph $O_{k}$ in which each string is represented by a node, and string $s$ is connected to string $t$ with a directed edge when there is a length $k$ suffix of $s$ that matches a length $k$ prefix of $t$, as long as $s≠t$; we demand $s≠t$ to prevent directed loops in the overlap graph (although directed cycles may be present).\n",
    "\n",
    "**Given:** A collection of DNA strings in FASTA format having total length at most 10 kbp.\n",
    "\n",
    "**Return:** The adjacency list corresponding to $O_{3}$. You may return edges in any order.\n",
    "\n"
   ]
  },
  {
   "cell_type": "code",
   "execution_count": 28,
   "id": "4ff2101c",
   "metadata": {
    "scrolled": true
   },
   "outputs": [
    {
     "name": "stdout",
     "output_type": "stream",
     "text": [
      "Rosalind_9182 Rosalind_9638\n",
      "\n",
      "Rosalind_4138 Rosalind_6791\n",
      "\n",
      "Rosalind_4138 Rosalind_0928\n",
      "\n",
      "Rosalind_1913 Rosalind_6791\n",
      "\n",
      "Rosalind_1913 Rosalind_0928\n",
      "\n",
      "Rosalind_9910 Rosalind_9637\n",
      "\n",
      "Rosalind_6922 Rosalind_9986\n",
      "\n",
      "Rosalind_6922 Rosalind_3582\n",
      "\n",
      "Rosalind_9286 Rosalind_3278\n",
      "\n",
      "Rosalind_9286 Rosalind_6836\n",
      "\n",
      "...\n"
     ]
    }
   ],
   "source": [
    "class Node:\n",
    "    def __init__(self, selfname, selfDNA):\n",
    "        self.name = selfname\n",
    "        self.DNA = selfDNA\n",
    "        self.adj_list = []\n",
    "\n",
    "    def overlap_adj(self, DNAname,DNAstring, o=3):\n",
    "        if self.DNA[-o:] == DNAstring[:o]:\n",
    "            self.adj_list.append(DNAname)\n",
    "\n",
    "\n",
    "f = open('./rdata/rosalind_grph_2_dataset.txt')\n",
    "f = f.read().split('\\n')\n",
    "\n",
    "ni = [i for i, v in enumerate(f) if v and v[0] == '>']\n",
    "dnadict = {}\n",
    "for i in range(len(ni)):\n",
    "    if ni[i] == ni[-1]:\n",
    "        dnadict[f[ni[i]][1:]] = ''.join(f[ni[i]+1:len(f)])\n",
    "    else:\n",
    "        dnadict[f[ni[i]][1:]] = ''.join(f[ni[i]+1:ni[i+1]])\n",
    "\n",
    "nodes = {}\n",
    "for i in dnadict:\n",
    "    nodes[i] = Node(i, dnadict[i])\n",
    "    others = [j for j in dnadict if j != i]\n",
    "    for l in others:\n",
    "        nodes[i].overlap_adj(l, dnadict[l])\n",
    "\n",
    "for i in list(nodes)[:len(nodes)//16]:\n",
    "    for j in nodes[i].adj_list:\n",
    "        print(f\"{nodes[i].name} {j}\\n\")\n",
    "print('...')"
   ]
  },
  {
   "cell_type": "markdown",
   "id": "b7001607",
   "metadata": {},
   "source": [
    "## Calculating Expected Offspring \n",
    "\n",
    "### Problem\n",
    "\n",
    "For a random variable $X$ taking integer values between 1 and $n$, the expected value of $X$ is E($X$) = $\\sum_{k=1}^{n} k×Pr(X=k)$. The expected value offers us a way of taking the long-term average of a random variable over a large number of trials.\n",
    "\n",
    "As a motivating example, let $X$ be the number on a six-sided die. Over a large number of rolls, we should expect to obtain an average of 3.5 on the die (even though it's not possible to roll a 3.5). The formula for expected value confirms that E($X$)= $\\sum_{k=1}^{6} k×Pr(X=k)$ = 3.5.\n",
    "\n",
    "More generally, a random variable for which every one of a number of equally spaced outcomes has the same probability is called a uniform random variable (in the die example, this \"equal spacing\" is equal to 1). We can generalize our die example to find that if $X$ is a uniform random variable with minimum possible value $a$ and maximum possible value $b$, then E($X$)=$\\frac{a+b}{2}$. You may also wish to verify that for the dice example, if $Y$ is the random variable associated with the outcome of a second die roll, then E($X+Y$)=7.\n",
    "\n",
    "**Given:** Six nonnegative integers, each of which does not exceed 20,000. The integers correspond to the number of couples in a population possessing each genotype pairing for a given factor. In order, the six given integers represent the number of couples having the following genotypes:\n",
    "\n",
    "AA-AA\n",
    "AA-Aa\n",
    "AA-aa\n",
    "Aa-Aa\n",
    "Aa-aa\n",
    "aa-aa\n",
    "\n",
    "**Return:** The expected number of offspring displaying the dominant phenotype in the next generation, under the assumption that every couple has exactly two offspring.\n",
    "\n",
    "\n"
   ]
  },
  {
   "cell_type": "code",
   "execution_count": 16,
   "id": "2d94ff14",
   "metadata": {},
   "outputs": [
    {
     "name": "stdout",
     "output_type": "stream",
     "text": [
      "164249.0\n"
     ]
    }
   ],
   "source": [
    "f = open('./rdata/rosalind_iev_1_dataset.txt')\n",
    "f = f.read().split()\n",
    "\n",
    "off = 0\n",
    "d = {0:1, 1:1, 2:1, 3:0.75, 4:0.5, 5:0}\n",
    "for i in range(len(f)):\n",
    "    n = int(f[i])\n",
    "    off += n*2*d[i]\n",
    "\n",
    "print(str(off))"
   ]
  },
  {
   "cell_type": "markdown",
   "id": "5c7d2b0b",
   "metadata": {},
   "source": [
    "## Finding a Shared Motif\n",
    "\n",
    "### Problem\n",
    "\n",
    "A common substring of a collection of strings is a substring of every member of the collection. We say that a common substring is a longest common substring if there does not exist a longer common substring. For example, \"CG\" is a common substring of \"A**CG**TACGT\" and \"AAC**CG**TATA\", but it is not as long as possible; in this case, \"CGTA\" is a longest common substring of \"A**CGTA**CGT\" and \"AAC**CGTA**TA\".\n",
    "\n",
    "Note that the longest common substring is not necessarily unique; for a simple example, \"AA\" and \"CC\" are both longest common substrings of \"AACC\" and \"CCAA\".\n",
    "\n",
    "**Given:** A collection of $k$ ($k$≤100) DNA strings of length at most 1 kbp each in FASTA format.\n",
    "\n",
    "**Return:** A longest common substring of the collection. (If multiple solutions exist, you may return any single solution.)\n",
    "\n"
   ]
  },
  {
   "cell_type": "code",
   "execution_count": 18,
   "id": "58bf7bbf",
   "metadata": {},
   "outputs": [
    {
     "name": "stdout",
     "output_type": "stream",
     "text": [
      "TCAGCTGAGGCACCGAAACCATCCTGCCATTTGCGATTATGGAATGAGGCCATAGGTGACAGATTTACTAGTAACCGGTAGCCAGCTTACATATGGGCGCACCACGTATGAGAGCCGGCTCTGAATCGTTAGTAGTTTTTGCTACCCCTA\n"
     ]
    }
   ],
   "source": [
    "import re\n",
    "\n",
    "f = open('./rdata/rosalind_lcsm_1_dataset.txt')\n",
    "f = re.split(r'\\d|R', ''.join(re.split(r'>|\\n', f.read())))\n",
    "f = [x for x in f if x and '_' not in x]\n",
    "c = min(f, key=len)\n",
    "f.remove(c)\n",
    "\n",
    "l = 0\n",
    "lcs = ''\n",
    "for i in range(len(c)):\n",
    "    for j in range(len(c),i,-1):\n",
    "        copy = [x for x in f if c[i:j] in x]\n",
    "        if copy == f and len(c[i:j]) > l:\n",
    "            lcs = c[i:j]\n",
    "            l = len(c[i:j])\n",
    "\n",
    "print(lcs)"
   ]
  },
  {
   "cell_type": "markdown",
   "id": "a79ff67c",
   "metadata": {},
   "source": [
    "## Finding a Protein Motif\n",
    "\n",
    "### Problem\n",
    "\n",
    "To allow for the presence of its varying forms, a protein motif is represented by a shorthand as follows: [XY] means \"either X or Y\" and {X} means \"any amino acid except X.\" For example, the N-glycosylation motif is written as N{P}[ST]{P}.\n",
    "\n",
    "You can see the complete description and features of a particular protein by its access ID \"uniprot_id\" in the UniProt database, by inserting the ID number into http://www.uniprot.org/uniprot/[uniprot_id]. \n",
    "\n",
    "Alternatively, you can obtain a protein sequence in FASTA format by following http://www.uniprot.org/uniprot/[uniprot_id].fasta.\n",
    "\n",
    "For example, the data for protein B5ZC00 can be found at http://www.uniprot.org/uniprot/B5ZC00.\n",
    "\n",
    "**Given:** At most 15 UniProt Protein Database access IDs.\n",
    "\n",
    "**Return:** For each protein possessing the N-glycosylation motif, output its given access ID followed by a list of locations in the protein string where the motif can be found.\n",
    "\n"
   ]
  },
  {
   "cell_type": "code",
   "execution_count": 19,
   "id": "f6316ec1",
   "metadata": {
    "scrolled": true
   },
   "outputs": [
    {
     "name": "stdout",
     "output_type": "stream",
     "text": [
      "Q13VE3\n",
      "95\n",
      "\n",
      "B5ZC00\n",
      "85 118 142 306 395\n",
      "\n",
      "P01044_KNH1_BOVIN\n",
      "47 87 168 169 197 204\n",
      "\n",
      "P01047_KNL2_BOVIN\n",
      "47 87 168 169 197 204 280\n",
      "\n",
      "P01880_DTC_HUMAN\n",
      "225 316 367\n",
      "\n",
      "P02750_A2GL_HUMAN\n",
      "79 186 269 306 325\n",
      "\n",
      "P49286\n",
      "4 130\n",
      "\n",
      "P07359_GPBA_HUMAN\n",
      "37 175 362 398\n",
      "\n",
      "Q68J42\n",
      "198 243\n",
      "\n",
      "P00748_FA12_HUMAN\n",
      "249 433\n",
      "\n"
     ]
    }
   ],
   "source": [
    "import requests\n",
    "from bs4 import BeautifulSoup\n",
    "import re\n",
    "\n",
    "def get_pro_str(proid):\n",
    "    webpage = requests.get('http://www.uniprot.org/uniprot/'+proid+'.fasta')\n",
    "    soup = BeautifulSoup(webpage.content, \"html.parser\")\n",
    "    x = ''.join(soup.get_text().split('\\n')[1:])\n",
    "    return x \n",
    "\n",
    "filt = r\"(?<=(N[^P](S|T)))[^P]\"\n",
    "results = {}\n",
    "\n",
    "f = open('./rdata/rosalind_mprt_3_dataset.txt')\n",
    "f = [x for x in f.read().split('\\n') if x]\n",
    "for i in f:\n",
    "    prostr = get_pro_str(i)\n",
    "    #print(i + '\\n' + prostr)\n",
    "    res = [j.span()[0]-2 for j in re.finditer(filt, prostr)]\n",
    "    if len(res)>0:\n",
    "        print(f\"{i}\\n{' '.join([str(k) for k in res])}\\n\")"
   ]
  },
  {
   "cell_type": "markdown",
   "id": "9ab76e79",
   "metadata": {},
   "source": [
    "## Inferring mRNA from Protein\n",
    "\n",
    "### Problem\n",
    "\n",
    "For positive integers $a$ and $n$, $a$ modulo $n$ (written $a$ mod $n$ in shorthand) is the remainder when a\n",
    "$a$ is divided by $n$. For example, 29 mod 11 = 7 because 29=11×2+7.\n",
    "\n",
    "Modular arithmetic is the study of addition, subtraction, multiplication, and division with respect to the modulo operation. We say that $a$ and $b$ are congruent modulo $n$ if $a$ mod  $n$ = $b$ mod $n$.; in this case, we use the notation $a$ ≡ $b$ mod n.\n",
    "\n",
    "Two useful facts in modular arithmetic are that if $a$ ≡ $b$ mod $n$ and $c$ ≡ $d$ mod $n$, then $a+c≡b+d$ mod $n$ and $a×c≡b×d$ mod $n$. To check your understanding of these rules, you may wish to verify these relationships for a=29, b=73, c=10, d=32, and n=11.\n",
    "\n",
    "As you will see in this exercise, some Rosalind problems will ask for a (very large) integer solution modulo a smaller number to avoid the computational pitfalls that arise with storing such large numbers.\n",
    "\n",
    "**Given:** A protein string of length at most 1000 aa.\n",
    "\n",
    "**Return:** The total number of different RNA strings from which the protein could have been translated, modulo 1,000,000. (Don't neglect the importance of the stop codon in protein translation.)\n",
    "\n"
   ]
  },
  {
   "cell_type": "code",
   "execution_count": 20,
   "id": "73710562",
   "metadata": {},
   "outputs": [
    {
     "name": "stdout",
     "output_type": "stream",
     "text": [
      "614464\n"
     ]
    }
   ],
   "source": [
    "import math\n",
    "\n",
    "f = open('./rdata/rosalind_mrna_1_dataset.txt')\n",
    "prts = list(f.read())[:-1]\n",
    "key = {'F':2, 'L':6, 'I':3, 'M':1, 'V':4, 'S':6, 'P':4, 'T':4, 'A':4, 'Y':2,\n",
    "       'H':2, 'Q':2, 'N':2, 'K':2, 'D':2, 'E':2, 'C':2, 'W':1, 'R':6, 'G':4}\n",
    "num = 1\n",
    "for i in prts:\n",
    "    num = num*key[i]\n",
    "num = num*3 # multiply by number of possible stop codons \n",
    "num = num%1000000\n",
    "\n",
    "print(num)"
   ]
  },
  {
   "cell_type": "markdown",
   "id": "09d8322c",
   "metadata": {},
   "source": [
    "## Enumerating Gene Orders\n",
    "\n",
    "### Problem \n",
    "\n",
    "A permutation of length $n$ is an ordering of the positive integers ${1,2,…,n}$. For example, $π = (5,3,2,1,4)$ is a permutation of length 5.\n",
    "\n",
    "**Given:** A positive integer $n$≤7.\n",
    "\n",
    "**Return:** The total number of permutations of length $n$, followed by a list of all such permutations (in any order)."
   ]
  },
  {
   "cell_type": "code",
   "execution_count": 6,
   "id": "319932fc",
   "metadata": {},
   "outputs": [
    {
     "name": "stdout",
     "output_type": "stream",
     "text": [
      "5040\n",
      "\n",
      "1 2 3 4 5 6 7\n",
      "\n",
      "1 2 3 4 5 7 6\n",
      "\n",
      "1 2 3 4 6 5 7\n",
      "\n",
      "1 2 3 4 6 7 5\n",
      "\n",
      "1 2 3 4 7 5 6\n",
      "\n",
      "1 2 3 4 7 6 5\n",
      "\n",
      "1 2 3 5 4 6 7\n",
      "\n",
      "1 2 3 5 4 7 6\n",
      "\n",
      "1 2 3 5 6 4 7\n",
      "\n",
      "1 2 3 5 6 7 4\n",
      "\n",
      "...\n",
      "7 6 5 4 3 2 1\n",
      "\n"
     ]
    }
   ],
   "source": [
    "from itertools import permutations\n",
    "\n",
    "f = open('./rdata/rosalind_perm_2_dataset.txt')\n",
    "n= int(f.read())\n",
    "\n",
    "num = list(range(1,n+1))\n",
    "perm  = list(permutations(num))\n",
    "n = len(perm)\n",
    "\n",
    "print(f\"{n}\\n\")\n",
    "for i in perm[:10]:\n",
    "    print(f\"{' '.join(list(map(str, i)))}\\n\")\n",
    "print('...')\n",
    "print(f\"{' '.join(list(map(str, perm[-1])))}\\n\")"
   ]
  },
  {
   "cell_type": "markdown",
   "id": "84e016c6",
   "metadata": {},
   "source": [
    "## Calculating Protein Mass\n",
    "\n",
    "### Problem \n",
    "\n",
    "In a weighted alphabet, every symbol is assigned a positive real number called a weight. A string formed from a weighted alphabet is called a weighted string, and its weight is equal to the sum of the weights of its symbols.\n",
    "\n",
    "The standard weight assigned to each member of the 20-symbol amino acid alphabet is the monoisotopic mass of the corresponding amino acid.\n",
    "\n",
    "**Given:** A protein string $P$ of length at most 1000 aa.\n",
    "\n",
    "**Return:** The total weight of $P$. Consult the monoisotopic mass table.\n",
    "\n"
   ]
  },
  {
   "cell_type": "code",
   "execution_count": 22,
   "id": "b1b37f95",
   "metadata": {},
   "outputs": [
    {
     "name": "stdout",
     "output_type": "stream",
     "text": [
      "107494.537\n"
     ]
    }
   ],
   "source": [
    "mmt = {'A':71.03711, 'C':103.00919, 'D':115.02694, 'E':129.04259, 'F':147.06841,\n",
    "       'G':57.02146, 'H':137.05891, 'I':113.08406, 'K':128.09496, 'L':113.08406,\n",
    "       'M':131.04049, 'N':114.04293, 'P':97.05276, 'Q':128.05858, 'R':156.10111,\n",
    "       'S':87.03203, 'T':101.04768, 'V':99.06841, 'W':186.07931, 'Y':163.06333}\n",
    "weight = 0\n",
    "\n",
    "f = open('./rdata/rosalind_prtm_1_dataset.txt')\n",
    "f = list(f.read())\n",
    "\n",
    "for i in f:\n",
    "    if i in mmt.keys():\n",
    "        weight += mmt[i]\n",
    "weight = round(weight,3)\n",
    "\n",
    "print(str(weight))"
   ]
  },
  {
   "cell_type": "markdown",
   "id": "8ad2d4c4",
   "metadata": {},
   "source": [
    "## Locating Restriction Sites\n",
    "\n",
    "### Problem\n",
    "\n",
    "A DNA string is a reverse palindrome if it is equal to its reverse complement. For instance, GCATGC is a reverse palindrome because its reverse complement is GCATGC. See Figure 4.\n",
    "\n",
    "![Palindrome Recognition Site](https://rosalind.info/media/problems/revp/palindrome.png)\n",
    "**Figure 4** \n",
    "\n",
    "**Given:** A DNA string of length at most 1 kbp in FASTA format.\n",
    "\n",
    "**Return:** The position and length of every reverse palindrome in the string having length between 4 and 12. You may return these pairs in any order."
   ]
  },
  {
   "cell_type": "code",
   "execution_count": 27,
   "id": "b50ecfd1",
   "metadata": {
    "scrolled": false
   },
   "outputs": [
    {
     "name": "stdout",
     "output_type": "stream",
     "text": [
      "737 6\n",
      "841 4\n",
      "646 4\n",
      "280 6\n",
      "494 8\n",
      "536 4\n",
      "917 4\n",
      "281 4\n",
      "680 4\n",
      "416 4\n",
      "991 4\n",
      "473 4\n",
      "802 4\n",
      "125 6\n",
      "738 4\n",
      "463 8\n",
      "493 10\n",
      "794 4\n",
      "277 6\n",
      "819 8\n",
      "\n"
     ]
    }
   ],
   "source": [
    "f = open('./rdata/rosalind_revp_2_dataset.txt')\n",
    "f = list(''.join(f.read().split('\\n')[1:]).split()[0])\n",
    "\n",
    "sites = set()\n",
    "check = set()\n",
    "key = {'A':'T', 'T':'A', 'C':'G', 'G':'C'}\n",
    "for i in range(len(f)):\n",
    "    for j in range(4, 13):\n",
    "        crev = [key[x] for x in reversed(f[i:i+j])]\n",
    "        if f[i:i+j] == crev and len(f)+1-(i+1)-j>=0:\n",
    "            sites.add(f\"{str(i+1)} {str(j)}\\n\")\n",
    "print(''.join(list(sites)[:20]))"
   ]
  },
  {
   "cell_type": "markdown",
   "id": "e88a2003",
   "metadata": {},
   "source": [
    "## RNA Splicing\n",
    "\n",
    "### Problem\n",
    "\n",
    "After identifying the exons and introns of an RNA string, we only need to delete the introns and concatenate the exons to form a new string ready for translation.\n",
    "\n",
    "**Given:** A DNA string $s$ (of length at most 1 kbp) and a collection of substrings of $s$ acting as introns. All strings are given in FASTA format.\n",
    "\n",
    "**Return:** A protein string resulting from transcribing and translating the exons of $s$. (Note: Only one solution will exist for the dataset provided.)\n",
    "\n"
   ]
  },
  {
   "cell_type": "code",
   "execution_count": 29,
   "id": "cb837e90",
   "metadata": {},
   "outputs": [
    {
     "name": "stdout",
     "output_type": "stream",
     "text": [
      "MVSLSLACMRVYGFCTRMGTVSFLDSSWRRGAGAFIHGKRFDLTLIFLRVEENAHQDHQSGVSRKIQPCCPSNPASLGSMWCISQIASPVIQQETRGVLLGIFCSFRLRAAIATLSCLGAPIMVGRALTPVKRAQAKTPNKDNSIIWKSNSSRAQQKVEPSLVFRMSRGVGLLWSCIGRKPIRRGGAYCGKRELRQL\n"
     ]
    }
   ],
   "source": [
    "import re\n",
    "codon_table = {'ttt': 'F', 'ttc': 'F', 'tta': 'L', 'ttg': 'L', 'tct': 'S', 'tcc': 'S', 'tca': 'S', 'tcg': 'S', 'tat': 'Y',\n",
    "               'tac': 'Y', 'taa': '*', 'tag': '*', 'tgt': 'C', 'tgc': 'C', 'tga': '*', 'tgg': 'W', 'ctt': 'L', 'ctc': 'L',\n",
    "               'cta': 'L', 'ctg': 'L', 'cct': 'P', 'ccc': 'P', 'cca': 'P', 'ccg': 'P', 'cat': 'H', 'cac': 'H', 'caa': 'Q',\n",
    "               'cag': 'Q', 'cgt': 'R', 'cgc': 'R', 'cga': 'R', 'cgg': 'R', 'att': 'I', 'atc': 'I', 'ata': 'I', 'atg': 'M',\n",
    "               'act': 'T', 'acc': 'T', 'aca': 'T', 'acg': 'T', 'aat': 'N', 'aac': 'N', 'aaa': 'K', 'aag': 'K', 'agt': 'S',\n",
    "               'agc': 'S', 'aga': 'R', 'agg': 'R', 'gtt': 'V', 'gtc': 'V', 'gta': 'V', 'gtg': 'V', 'gct': 'A', 'gcc': 'A',\n",
    "               'gca': 'A', 'gcg': 'A', 'gat': 'D', 'gac': 'D', 'gaa': 'E', 'gag': 'E', 'ggt': 'G', 'ggc': 'G', 'gga': 'G',\n",
    "               'ggg': 'G'}\n",
    "\n",
    "f = open('./rdata/rosalind_splc_1_dataset.txt')\n",
    "f = re.split(r'\\d|R', ''.join(re.split(r'>|\\n', f.read())))\n",
    "f = [x for x in f if x and '_' not in x]\n",
    "\n",
    "main, introns = list(f[0]), [list(x) for x in f[1:]]\n",
    "for i in range(len(main)):\n",
    "    for j in introns:\n",
    "        if main[i:i+len(j)] == j:\n",
    "            main[i:i+len(j)] = ['' for i in range(len(j))]\n",
    "main = [x for x in main if x]\n",
    "pro = []\n",
    "for i in range(0, len(main), 3):\n",
    "    codon = ''.join(main[i:i+3])\n",
    "    pro.append(codon_table[codon.lower()])\n",
    "protein = ''.join(pro[:-1])\n",
    "\n",
    "print(protein)"
   ]
  },
  {
   "cell_type": "markdown",
   "id": "1cead710",
   "metadata": {},
   "source": [
    "## Enumerating k-mers Lexicographically \n",
    "\n",
    "### Problem \n",
    "\n",
    "Assume that an alphabet 𝒜 has a predetermined order; that is, we write the alphabet as a permutation 𝒜 = ($a_{1}$,$a_{2}$,…,$a_{k}$), where $a_{1}$<$a_{2}$<⋯<$a_{k}$. For instance, the English alphabet is organized as (A,B,…,Z).\n",
    "\n",
    "Given two strings $s$ and $t$ having the same length $n$, we say that $s$ precedes $t$ in the lexicographic order (and write $s$ $<_{Lex}$ $t$) if the first symbol $s[j]$ that doesn't match $t[j]$ satisfies $s_{j} < t_{j}$ in 𝒜.\n",
    "\n",
    "**Given:** A collection of at most 10 symbols defining an ordered alphabet, and a positive integer $n$ ($n$≤10).\n",
    "\n",
    "**Return:** All strings of length $n$ that can be formed from the alphabet, ordered lexicographically (use the standard order of symbols in the English alphabet).\n",
    "\n"
   ]
  },
  {
   "cell_type": "code",
   "execution_count": 4,
   "id": "75fc0b2b",
   "metadata": {},
   "outputs": [
    {
     "name": "stdout",
     "output_type": "stream",
     "text": [
      "AAA\n",
      "AAB\n",
      "AAC\n",
      "AAD\n",
      "AAE\n",
      "AAF\n",
      "ABA\n",
      "ABB\n",
      "ABC\n",
      "ABD\n",
      "ABE\n",
      "ABF\n",
      "ACA\n",
      "ACB\n",
      "ACC\n",
      "ACD\n",
      "ACE\n",
      "ACF\n",
      "ADA\n",
      "ADB\n",
      "...\n",
      "FFF\n"
     ]
    }
   ],
   "source": [
    "from itertools import permutations\n",
    "\n",
    "f = open('./rdata/rosalind_lexf_1_dataset.txt')\n",
    "f = f.read().split('\\n')\n",
    "syms = f[0].split(' ')\n",
    "n = int(f[1])\n",
    "for i in range(n-1):\n",
    "    syms.extend(syms)\n",
    "\n",
    "perms = list(set([''.join(x) for x in list(permutations(syms, n))]))\n",
    "perms.sort()\n",
    "\n",
    "for i in list(perms)[:20]:\n",
    "    print(i)\n",
    "print('...')\n",
    "print(list(perms)[-1])"
   ]
  },
  {
   "cell_type": "markdown",
   "id": "790e5bfb",
   "metadata": {},
   "source": [
    "## Genome Assembly as Shortest Superstring\n",
    "\n",
    "### Problem\n",
    "\n",
    "For a collection of strings, a larger string containing every one of the smaller strings as a substring is called a superstring.\n",
    "\n",
    "By the assumption of parsimony, a shortest possible superstring over a collection of reads serves as a candidate chromosome.\n",
    "\n",
    "**Given:** At most 50 DNA strings of approximately equal length, not exceeding 1 kbp, in FASTA format (which represent reads deriving from the same strand of a single linear chromosome).\n",
    "\n",
    "The dataset is guaranteed to satisfy the following condition: there exists a unique way to reconstruct the entire chromosome from these reads by gluing together pairs of reads that overlap by more than half their length.\n",
    "\n",
    "**Return:** A shortest superstring containing all the given strings (thus corresponding to a reconstructed chromosome)."
   ]
  },
  {
   "cell_type": "code",
   "execution_count": 5,
   "id": "265be36b",
   "metadata": {},
   "outputs": [
    {
     "name": "stdout",
     "output_type": "stream",
     "text": [
      "TCGACGGGGATTAATTGGGCTACAGATTTTCCTTCAGCTACTCTCCTCATTCCTTGGACTGCCATCGTTCTTCGGGTCTAGGCACCGTCCATCGCACCCATCACGGTAGAACTTTGAGCATGCAAGGGAGCGATTCCCGTTTTGCCAAGTGTCGAAGTTCAAGAATATTAAAACGAAGCGTCTTACGCAGCTTGTAGTGC...CTG\n"
     ]
    }
   ],
   "source": [
    "import re\n",
    "def app_strs(cumulative, current, dd, dnadict):\n",
    "    if dd[current]['right'] == None:\n",
    "        i = 0\n",
    "        while dnadict[current][:-i] != cumulative[-len(dnadict[current][:-i]):]:\n",
    "            i+=1\n",
    "        return cumulative + dnadict[current][-i:]\n",
    "    else:\n",
    "        i = len(dd[current]['right'][1])\n",
    "        while cumulative[-i:] != dd[current]['right'][1][:i] and i>0:\n",
    "            i = i-1\n",
    "        cumulative += dd[current]['right'][1][i:]\n",
    "        current = dd[current]['right'][0]\n",
    "        return app_strs(cumulative, current, dd, dnadict)\n",
    "    \n",
    "f = open('./rdata/rosalind_long_4_dataset.txt')\n",
    "f = f.read().split('\\n')\n",
    "ni = [i for i, v in enumerate(f) if v and v[0] == '>']\n",
    "dnadict = {}\n",
    "for i in range(len(ni)):\n",
    "    if ni[i] == ni[-1]:\n",
    "        dnadict[f[ni[i]][1:]] = ''.join(f[ni[i]+1:len(f)])\n",
    "    else:\n",
    "        dnadict[f[ni[i]][1:]] = ''.join(f[ni[i]+1:ni[i+1]])\n",
    "dd = dict.fromkeys(list(dnadict.keys()))\n",
    "for i in dd:\n",
    "    dd[i] = dict.fromkeys(['left','right'])\n",
    "for i in dd.keys():\n",
    "    for j in dd.keys():\n",
    "        if i == j:\n",
    "            continue\n",
    "        if len(dnadict[i])>= len(dnadict[j]):\n",
    "            l = len(dnadict[i])\n",
    "            s = len(dnadict[j])\n",
    "        else:\n",
    "            l = len(dnadict[j])\n",
    "            s = len(dnadict[i])\n",
    "        for k in range(s, l//2, -1):\n",
    "            left, right = dnadict[i][-k:], dnadict[j][:k]\n",
    "            if left == right:\n",
    "                dd[j]['left'] = [i, dnadict[i][-k:]]\n",
    "                dd[i]['right'] = [j, dnadict[j][:k]]\n",
    "                break\n",
    "\n",
    "for i in dd:\n",
    "    if dd[i]['left'] != None:\n",
    "        continue\n",
    "    else:\n",
    "        res = app_strs(dnadict[i][:dnadict[i].index(dd[i]['right'][1])], i, dd, dnadict)\n",
    "        print(res[:200]+'...'+res[-3:])\n"
   ]
  },
  {
   "cell_type": "markdown",
   "id": "fceea67c",
   "metadata": {},
   "source": [
    "## Perfect Matchings and RNA Secondary Structures\n",
    "\n",
    "### Problem\n",
    "\n",
    "A matching in a graph $G$ is a collection of edges of $G$ for which no node belongs to more than one edge in the collection. See Figure 5 for examples of matchings. If $G$ contains an even number of nodes (say 2$n$), then a matching on $G$ is perfect if it contains $n$ edges, which is clearly the maximum possible. An example of a graph containing a perfect matching is shown in Figure 6.\n",
    "\n",
    "![three matchings](https://rosalind.info/media/problems/pmch/matching.png)\n",
    "**Figure 5***\n",
    "![perfect matching](https://rosalind.info/media/problems/pmch/perfect_matching.png)\n",
    "**Figure 6**\n",
    "\n",
    "First, let $K_{n}$ denote the complete graph on 2$n$ labeled nodes, in which every node is connected to every other node with an edge, and let $p_{n}$ denote the total number of perfect matchings in $K_{n}$. For a given node $x$, there are 2$n$−1 ways to join $x$ to the other nodes in the graph, after which point we must form a perfect matching on the remaining 2$n$−2 nodes. This reasoning provides us with the recurrence relation $p_{n} = (2n−1)⋅p_{n−1}$; using the fact that $p_{1}$ is 1, this recurrence relation implies the closed equation $p_{n} =(2n−1)(2n−3)(2n−5)⋯(3)(1)$.\n",
    "\n",
    "Given an RNA string $s=s_{1}…s_{n}$, a bonding graph for $s$ is formed as follows. First, assign each symbol of $s$ to a node, and arrange these nodes in order around a circle, connecting them with edges called adjacency edges. Second, form all possible edges {A, U} and {C, G}, called basepair edges; we will represent basepair edges with dashed edges, as illustrated by the bonding graph in Figure 7.\n",
    "\n",
    "![bonding graph](https://rosalind.info/media/problems/pmch/bonding_graph.png)\n",
    "**Figure 7**\n",
    "\n",
    "Note that a matching contained in the basepair edges will represent one possibility for base pairing interactions in $s$, as shown in Figure 5. For such a matching to exist, $s$ must have the same number of occurrences of 'A' as 'U' and the same number of occurrences of 'C' as 'G'.\n",
    "\n",
    "**Given:** An RNA string $s$ of length at most 80 bp having the same number of occurrences of 'A' as 'U' and the same number of occurrences of 'C' as 'G'.\n",
    "\n",
    "**Return:** The total possible number of perfect matchings of basepair edges in the bonding graph of $s$.\n",
    "\n"
   ]
  },
  {
   "cell_type": "code",
   "execution_count": 32,
   "id": "ca2596cb",
   "metadata": {},
   "outputs": [
    {
     "name": "stdout",
     "output_type": "stream",
     "text": [
      "2545154876758654835490816000000\n"
     ]
    }
   ],
   "source": [
    "import math\n",
    "\n",
    "f = open('./rdata/rosalind_pmch_1_dataset.txt')\n",
    "DNA = ''.join(f.read().split('\\n')[1:])\n",
    "\n",
    "AT = len([x for x in DNA if x == 'A'])\n",
    "GC = len([x for x in DNA if x == 'G'])\n",
    "pms = math.factorial(AT)*math.factorial(GC)\n",
    "\n",
    "print(str(pms))"
   ]
  },
  {
   "cell_type": "markdown",
   "id": "6070dc6f",
   "metadata": {},
   "source": [
    "## Partial Permutations\n",
    "\n",
    "### Problem\n",
    "\n",
    "A partial permutation is an ordering of only $k$ objects taken from a collection containing $n$ objects (i.e., $k≤n$). For example, one partial permutation of three of the first eight positive integers is given by $(5,7,2)$.\n",
    "\n",
    "The statistic $P(n,k)$ counts the total number of partial permutations of $k$ objects that can be formed from a collection of $n$ objects. Note that $P(n,n)$ is just the number of permutations of $n$ objects, which we found to be equal to $n! = n(n−1)(n−2)⋯(3)(2)$ in “Enumerating Gene Orders”.\n",
    "\n",
    "**Given:** Positive integers $n$ and $k$ such that $100≥n>0$ and $10≥k>0$.\n",
    "\n",
    "**Return:** The total number of partial permutations $P(n,k)$, modulo 1,000,000."
   ]
  },
  {
   "cell_type": "code",
   "execution_count": 34,
   "id": "7ba83e1c",
   "metadata": {},
   "outputs": [
    {
     "name": "stdout",
     "output_type": "stream",
     "text": [
      "176000\n"
     ]
    }
   ],
   "source": [
    "from math import factorial\n",
    "\n",
    "n, k = [int(x) for x in open('/Users/gauri/Downloads/rosalind_pper-3.txt').read().split(' ')]\n",
    "comb = factorial(n)/factorial(n-k)\n",
    "\n",
    "print(str(int(comb%1000000)))"
   ]
  },
  {
   "cell_type": "markdown",
   "id": "de40d85f",
   "metadata": {},
   "source": [
    "## Introduction to Random Strings\n",
    "\n",
    "### Problem\n",
    "\n",
    "An array is a structure containing an ordered collection of objects (numbers, strings, other arrays, etc.). We let $A[k]$ denote the $k$-th value in array $A$. You may like to think of an array as simply a matrix having only one row.\n",
    "\n",
    "A random string is constructed so that the probability of choosing each subsequent symbol is based on a fixed underlying symbol frequency.\n",
    "\n",
    "GC-content offers us natural symbol frequencies for constructing random DNA strings. If the GC-content is $x$, then we set the symbol frequencies of C and G equal to $\\frac{x}{2}$ and the symbol frequencies of A and T equal to $\\frac{1−x}{2}$. For example, if the GC-content is 40%, then as we construct the string, the next symbol is 'G'/'C' with probability 0.2, and the next symbol is 'A'/'T' with probability 0.3.\n",
    "\n",
    "In practice, many probabilities wind up being very small. In order to work with small probabilities, we may plug them into a function that \"blows them up\" for the sake of comparison. Specifically, the common logarithm of $x$ (defined for $x>0$ and denoted log(x)) is the exponent to which we must raise 10 to obtain $x$.\n",
    "\n",
    "See Figure 8 for a graph of the common logarithm function y=log(x). In this graph, we can see that the logarithm of $x$-values between 0 and 1 always winds up mapping to $y$-values between $−∞$ and 0: $x$-values near 0 have logarithms close to $−∞$, and x-values close to 1 have logarithms close to 0. Thus, we will select the common logarithm as our function to \"blow up\" small probability values for comparison.\n",
    "\n",
    "![Common Log Function](https://rosalind.info/media/problems/prob/common_log.png)\n",
    "**Figure 8**\n",
    "\n",
    "**Given:** A DNA string $s$ of length at most 100 bp and an array $A$ containing at most 20 numbers between 0 and 1.\n",
    "\n",
    "**Return:** An array $B$ having the same length as $A$ in which $B[k]$ represents the common logarithm of the probability that a random string constructed with the GC-content found in $A[k]$ will match $s$ exactly.\n",
    "\n",
    "\n"
   ]
  },
  {
   "cell_type": "code",
   "execution_count": 36,
   "id": "cdd8d13f",
   "metadata": {},
   "outputs": [
    {
     "name": "stdout",
     "output_type": "stream",
     "text": [
      "-73.86 -64.063 -59.039 -55.753 -54.764 -52.039 -50.257 -49.782 -48.847 -49.091 -49.276 -51.029 -53.054 -55.379 -59.931\n"
     ]
    }
   ],
   "source": [
    "import math\n",
    "\n",
    "f = open('./rdata/rosalind_prob_1_dataset.txt')\n",
    "f = f.read().split('\\n')\n",
    "A = [float(x) for x in f[-2].split(' ')]\n",
    "s = ''.join(f[:-2])\n",
    "\n",
    "probs = {}\n",
    "for j in A:\n",
    "    probs[j] = {'GC':j/2, 'AT':(1-j)/2}\n",
    "B = [1 for i in A]\n",
    "for i in s:\n",
    "    for j in range(len(A)):\n",
    "        if i == 'A' or i=='T':\n",
    "            B[j] = B[j]*probs[A[j]]['AT']\n",
    "        else:\n",
    "            B[j] = B[j]*probs[A[j]]['GC']\n",
    "B = [str(round(math.log(x, 10), 3)) for x in B]\n",
    "\n",
    "print(' '.join(B))"
   ]
  },
  {
   "cell_type": "markdown",
   "id": "e9824846",
   "metadata": {},
   "source": [
    "## Finding a Spliced Motif \n",
    "\n",
    "### Problem \n",
    "\n",
    "A subsequence of a string is a collection of symbols contained in order (though not necessarily contiguously) in the string (e.g., ACG is a subsequence of TATGCTAAGATC). The indices of a subsequence are the positions in the string at which the symbols of the subsequence appear; thus, the indices of ACG in TATGCTAAGATC can be represented by (2, 5, 9).\n",
    "\n",
    "As a substring can have multiple locations, a subsequence can have multiple collections of indices, and the same index can be reused in more than one appearance of the subsequence; for example, ACG is a subsequence of AACCGGTT in 8 different ways.\n",
    "\n",
    "**Given:** Two DNA strings $s$ and $t$ (each of length at most 1 kbp) in FASTA format.\n",
    "\n",
    "**Return:** One collection of indices of $s$ in which the symbols of $t$ appear as a subsequence of $s$. If multiple solutions exist, you may return any one.\n",
    "\n"
   ]
  },
  {
   "cell_type": "code",
   "execution_count": 37,
   "id": "682d041f",
   "metadata": {},
   "outputs": [
    {
     "name": "stdout",
     "output_type": "stream",
     "text": [
      "6 13 15 17 22 26 35 58 60 63 65 70 74 78 81 85 88 93 95 97 102 105 110 113 118 126 129 132 136 140 146 150 153 159 165 167 169 173 182 185 189 193 196 198 201 203 205 211 215 232 235 239 243 246 248 252 257 260 263 269 275 282 288 290\n"
     ]
    }
   ],
   "source": [
    "import re\n",
    "\n",
    "f = open('./rdata/rosalind_sseq_1_dataset.txt')\n",
    "f = re.split(r'\\d|R', ''.join(re.split(r'>|\\n', f.read())))\n",
    "s, t = [x for x in f if x and '_' not in x]\n",
    "\n",
    "indices = []\n",
    "pos = 0 \n",
    "for i in t:\n",
    "    nf = True\n",
    "    while nf:\n",
    "        pos += 1\n",
    "        if i == s[pos-1] and str(pos-1) not in indices:\n",
    "            nf = False\n",
    "            indices.append(str(pos))\n",
    "    if len(indices) == len(list(t)):\n",
    "        break\n",
    "\n",
    "print(' '.join(indices))\n"
   ]
  },
  {
   "cell_type": "markdown",
   "id": "4d7b0490",
   "metadata": {},
   "source": [
    "## Completing a Tree\n",
    "\n",
    "### Problem\n",
    "\n",
    "An undirected graph is connected if there is a path connecting any two nodes. A tree is a connected (undirected) graph containing no cycles; this definition forces the tree to have a branching structure organized around a central core of nodes, just like its living counterpart. See Figure 9.\n",
    "\n",
    "![Tree Graph](https://rosalind.info/media/problems/tree/tree_graph.png)\n",
    "**Figure 9**\n",
    "\n",
    "We have already grown familiar with trees in “Mendel's First Law”, where we introduced the probability tree diagram to visualize the outcomes of a random variable.\n",
    "\n",
    "In the creation of a phylogeny, taxa are encoded by the tree's leaves, or nodes having degree 1. A node of a tree having degree larger than 1 is called an internal node.\n",
    "\n",
    "**Given:** A positive integer $n$ ($n≤1000$) and an adjacency list corresponding to a graph on $n$ nodes that contains no cycles.\n",
    "\n",
    "**Return:** The minimum number of edges that can be added to the graph to produce a tree.\n",
    "\n"
   ]
  },
  {
   "cell_type": "code",
   "execution_count": 38,
   "id": "74627a4a",
   "metadata": {},
   "outputs": [
    {
     "name": "stdout",
     "output_type": "stream",
     "text": [
      "52\n"
     ]
    }
   ],
   "source": [
    "f = open('./rdata/rosalind_tree_1_dataset.txt')\n",
    "f = f.read().split('\\n')\n",
    "\n",
    "n = int(f[0])\n",
    "del f[0],\n",
    "if f[-1] == '':\n",
    "    del f[-1]\n",
    "branches = []\n",
    "nodes = set(' '.join(f).split(' '))\n",
    "f = [[int(y) for y in x.split(' ')] for x in f]\n",
    "for i in range(len(f)):\n",
    "    if i == 0:\n",
    "        branches.append(set(f[i]))\n",
    "        continue\n",
    "    ch = 0\n",
    "    l = []\n",
    "    for j in range(len(branches)):\n",
    "        if len(branches[j].union(set(f[i]))) < len(branches[j])+len(f[i]):\n",
    "            branches[j] = branches[j].union(set(f[i]))\n",
    "            ch +=1\n",
    "            l.append(j)\n",
    "    if ch == 0:\n",
    "        branches.append(set(f[i]))\n",
    "    elif ch>1:\n",
    "        x = [branches[j] for j in l]\n",
    "        branches[l[0]] = set.union(*x)\n",
    "        for j in l[1:]:\n",
    "            del branches[j]\n",
    "\n",
    "\n",
    "print(str(len(branches)-1+n-len(nodes)))\n"
   ]
  },
  {
   "cell_type": "code",
   "execution_count": null,
   "id": "8a00938b",
   "metadata": {},
   "outputs": [],
   "source": []
  }
 ],
 "metadata": {
  "kernelspec": {
   "display_name": "Python 3",
   "language": "python",
   "name": "python3"
  },
  "language_info": {
   "codemirror_mode": {
    "name": "ipython",
    "version": 3
   },
   "file_extension": ".py",
   "mimetype": "text/x-python",
   "name": "python",
   "nbconvert_exporter": "python",
   "pygments_lexer": "ipython3",
   "version": "3.7.10"
  }
 },
 "nbformat": 4,
 "nbformat_minor": 5
}
